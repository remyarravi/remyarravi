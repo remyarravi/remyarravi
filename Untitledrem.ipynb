{
 "cells": [
  {
   "cell_type": "code",
   "execution_count": null,
   "id": "6467d35c-9a8a-4e6e-b62f-005ed09443a8",
   "metadata": {},
   "outputs": [],
   "source": [
    "NUMPY PROBLEMS"
   ]
  },
  {
   "cell_type": "code",
   "execution_count": null,
   "id": "0a2add4f-7b0e-41ee-b841-4b7ab471e969",
   "metadata": {},
   "outputs": [],
   "source": [
    "Question 1"
   ]
  },
  {
   "cell_type": "code",
   "execution_count": 1,
   "id": "59347a76-d218-4bf6-80f3-d81e04dca956",
   "metadata": {},
   "outputs": [
    {
     "name": "stdout",
     "output_type": "stream",
     "text": [
      "Random Array: [49 38 12 31 44 11 16 33 48 46 13 34 16 12 21 22 33 20 44 45]\n",
      "Mean: 29.4\n",
      "Standard Deviation: 13.38805437694365\n"
     ]
    }
   ],
   "source": [
    "import numpy as np\n",
    "random_array = np.random.randint(10, 50, 20)\n",
    "mean_value = np.mean(random_array)\n",
    "std_deviation = np.std(random_array)\n",
    "print(\"Random Array:\", random_array)\n",
    "print(\"Mean:\", mean_value)\n",
    "print(\"Standard Deviation:\", std_deviation)"
   ]
  },
  {
   "cell_type": "code",
   "execution_count": null,
   "id": "fc0bbea0-af78-44a8-bd94-e314a0e36914",
   "metadata": {},
   "outputs": [],
   "source": [
    "Question 2"
   ]
  },
  {
   "cell_type": "code",
   "execution_count": 2,
   "id": "c2d96983-b115-4147-9982-64ecc20e4119",
   "metadata": {},
   "outputs": [
    {
     "name": "stdout",
     "output_type": "stream",
     "text": [
      "Original Array (6, 5):\n",
      " [[0.72613654 0.46636929 0.17120331 0.60388211 0.96305621]\n",
      " [0.41859877 0.38014805 0.95666102 0.44004313 0.56428949]\n",
      " [0.07959938 0.62979712 0.62798107 0.40668866 0.4115502 ]\n",
      " [0.27428258 0.20407059 0.89585935 0.12106988 0.31159235]\n",
      " [0.61931635 0.57009427 0.36939945 0.97485813 0.21701179]\n",
      " [0.0081526  0.99936848 0.30521042 0.67445504 0.63044777]]\n",
      "\n",
      "Reshaped Array (5, 6):\n",
      " [[0.72613654 0.46636929 0.17120331 0.60388211 0.96305621 0.41859877]\n",
      " [0.38014805 0.95666102 0.44004313 0.56428949 0.07959938 0.62979712]\n",
      " [0.62798107 0.40668866 0.4115502  0.27428258 0.20407059 0.89585935]\n",
      " [0.12106988 0.31159235 0.61931635 0.57009427 0.36939945 0.97485813]\n",
      " [0.21701179 0.0081526  0.99936848 0.30521042 0.67445504 0.63044777]]\n"
     ]
    }
   ],
   "source": [
    "import numpy as np\n",
    "original_array = np.random.rand(6, 5)\n",
    "reshaped_array = original_array.reshape(5, 6)\n",
    "print(\"Original Array (6, 5):\\n\", original_array)\n",
    "print(\"\\nReshaped Array (5, 6):\\n\", reshaped_array)"
   ]
  },
  {
   "cell_type": "markdown",
   "id": "d427b08f-d012-4b73-9e54-0c67e0933ba1",
   "metadata": {},
   "source": [
    "Question 3"
   ]
  },
  {
   "cell_type": "code",
   "execution_count": 3,
   "id": "697ff55f-429e-4904-975d-5528e3e57a5d",
   "metadata": {},
   "outputs": [
    {
     "name": "stdout",
     "output_type": "stream",
     "text": [
      "Original Array:\n",
      " [[ 1  2  3  4  5]\n",
      " [ 6  7  8  9 10]\n",
      " [11 12 13 14 15]\n",
      " [16 17 18 19 20]\n",
      " [21 22 23 24 25]]\n",
      "\n",
      "Subarray (rows 2-4, columns 1-3):\n",
      " [[12 13 14]\n",
      " [17 18 19]\n",
      " [22 23 24]]\n"
     ]
    }
   ],
   "source": [
    "import numpy as np\n",
    "array = np.arange(1, 26).reshape(5, 5)\n",
    "subarray = array[2:5, 1:4]\n",
    "print(\"Original Array:\\n\", array)\n",
    "print(\"\\nSubarray (rows 2-4, columns 1-3):\\n\", subarray)"
   ]
  },
  {
   "cell_type": "code",
   "execution_count": null,
   "id": "3dd773d3-5c2c-4e8c-8a59-46419a718e88",
   "metadata": {},
   "outputs": [],
   "source": [
    "Question 4"
   ]
  },
  {
   "cell_type": "code",
   "execution_count": 4,
   "id": "2c5951a4-61d7-4208-9440-cd756f40e8f1",
   "metadata": {},
   "outputs": [
    {
     "name": "stdout",
     "output_type": "stream",
     "text": [
      "Array A: [27 87 17 51 55  5 96 79 70 33]\n",
      "Array B: [48 14 59 84 86 42 61  7  4 48]\n",
      "Sum of A and B: [ 75 101  76 135 141  47 157  86  74  81]\n",
      "Final Result (Sum * 2): [150 202 152 270 282  94 314 172 148 162]\n"
     ]
    }
   ],
   "source": [
    "import numpy as np\n",
    "A = np.random.randint(1, 101, 10)\n",
    "B = np.random.randint(1, 101, 10)\n",
    "sum_result = A + B\n",
    "final_result = sum_result * 2\n",
    "print(\"Array A:\", A)\n",
    "print(\"Array B:\", B)\n",
    "print(\"Sum of A and B:\", sum_result)\n",
    "print(\"Final Result (Sum * 2):\", final_result)"
   ]
  },
  {
   "cell_type": "code",
   "execution_count": null,
   "id": "1ecab9f5-c5a7-4a8b-89b6-3dbe449dcbeb",
   "metadata": {},
   "outputs": [],
   "source": [
    "Question 5"
   ]
  },
  {
   "cell_type": "code",
   "execution_count": 5,
   "id": "0159351e-5044-4062-896b-63b0df79da96",
   "metadata": {},
   "outputs": [
    {
     "name": "stdout",
     "output_type": "stream",
     "text": [
      "2D Array A:\n",
      " [[ 6 10 10  6]\n",
      " [ 5  9  7  6]\n",
      " [ 2  5  2  8]]\n",
      "\n",
      "1D Array B: [1 2 3 4]\n",
      "\n",
      "Result of A + B:\n",
      " [[ 7 12 13 10]\n",
      " [ 6 11 10 10]\n",
      " [ 3  7  5 12]]\n"
     ]
    }
   ],
   "source": [
    "import numpy as np\n",
    "A = np.random.randint(1, 11, (3, 4))\n",
    "B = np.array([1, 2, 3, 4])\n",
    "result = A + B\n",
    "print(\"2D Array A:\\n\", A)\n",
    "print(\"\\n1D Array B:\", B)\n",
    "print(\"\\nResult of A + B:\\n\", result)"
   ]
  },
  {
   "cell_type": "code",
   "execution_count": null,
   "id": "8e97ec83-03f4-4b73-be7a-26935e3637e4",
   "metadata": {},
   "outputs": [],
   "source": [
    "Question 6"
   ]
  },
  {
   "cell_type": "code",
   "execution_count": 6,
   "id": "7ad140c4-f925-4ff9-82ea-392d0982ad65",
   "metadata": {},
   "outputs": [
    {
     "name": "stdout",
     "output_type": "stream",
     "text": [
      "Matrix:\n",
      " [[69 86 17]\n",
      " [25 94 70]\n",
      " [45 25 73]]\n",
      "Row sums: [172 189 143]\n",
      "Row with maximum sum: [25 94 70]\n",
      "Maximum value in that row: 94\n"
     ]
    }
   ],
   "source": [
    "import numpy as np\n",
    "matrix = np.random.randint(1, 101, (3, 3))\n",
    "row_sums = np.sum(matrix, axis=1)\n",
    "max_sum_row_index = np.argmax(row_sums)\n",
    "max_value_in_row = np.max(matrix[max_sum_row_index])\n",
    "print(\"Matrix:\\n\", matrix)\n",
    "print(\"Row sums:\", row_sums)\n",
    "print(\"Row with maximum sum:\", matrix[max_sum_row_index])\n",
    "print(\"Maximum value in that row:\", max_value_in_row)"
   ]
  },
  {
   "cell_type": "code",
   "execution_count": null,
   "id": "460b4e73-3c9e-44ab-a318-b0b9f313ccc7",
   "metadata": {},
   "outputs": [],
   "source": [
    "Question 7"
   ]
  },
  {
   "cell_type": "code",
   "execution_count": 7,
   "id": "db398cf3-de90-443d-afdb-843cd09b3c68",
   "metadata": {},
   "outputs": [
    {
     "name": "stdout",
     "output_type": "stream",
     "text": [
      "Array A:\n",
      " [[6 5]\n",
      " [7 7]]\n",
      "Array B:\n",
      " [[1 6]\n",
      " [2 4]]\n",
      "Matrix Multiplication (A * B):\n",
      " [[16 56]\n",
      " [21 70]]\n"
     ]
    }
   ],
   "source": [
    "import numpy as np\n",
    "A = np.random.randint(1, 10, (2, 2))\n",
    "B = np.random.randint(1, 10, (2, 2))\n",
    "result = np.dot(A, B)\n",
    "print(\"Array A:\\n\", A)\n",
    "print(\"Array B:\\n\", B)\n",
    "print(\"Matrix Multiplication (A * B):\\n\", result)"
   ]
  },
  {
   "cell_type": "code",
   "execution_count": null,
   "id": "bc2919b2-d816-40ab-8568-55b7c435e195",
   "metadata": {},
   "outputs": [],
   "source": [
    "Question 8"
   ]
  },
  {
   "cell_type": "code",
   "execution_count": 8,
   "id": "e1ffa011-3744-4ed5-990c-b884d59daacc",
   "metadata": {},
   "outputs": [
    {
     "name": "stdout",
     "output_type": "stream",
     "text": [
      "Original Array:\n",
      " [[ 2 17 12 34 28 27]\n",
      " [50 12 33 22 20 23]\n",
      " [19 49 37  9 26 48]\n",
      " [46 31 15  9 26 28]\n",
      " [34 27  2 35 28  2]\n",
      " [15 47  8 35 39 32]]\n",
      "Values greater than 25: [34 28 27 50 33 49 37 26 48 46 31 26 28 34 27 35 28 47 35 39 32]\n"
     ]
    }
   ],
   "source": [
    "import numpy as np\n",
    "array = np.random.randint(1, 51, (6, 6))\n",
    "values_greater_than_25 = array[array > 25]\n",
    "print(\"Original Array:\\n\", array)\n",
    "print(\"Values greater than 25:\", values_greater_than_25)"
   ]
  },
  {
   "cell_type": "code",
   "execution_count": null,
   "id": "e776e1f3-15f3-4396-a9a3-47edf320e5ad",
   "metadata": {},
   "outputs": [],
   "source": [
    "Question 9"
   ]
  },
  {
   "cell_type": "code",
   "execution_count": 9,
   "id": "175afe56-f47a-4b65-a029-a7bd846a0da1",
   "metadata": {},
   "outputs": [
    {
     "name": "stdout",
     "output_type": "stream",
     "text": [
      "Array:\n",
      " [[0.44157119 0.11618052 0.51132151 0.35784486 0.37999999]\n",
      " [0.09611726 0.22955815 0.48124505 0.02183974 0.07321055]\n",
      " [0.61980691 0.2125414  0.91348456 0.97470308 0.15364614]\n",
      " [0.23482886 0.7961834  0.44951068 0.63674414 0.28007422]\n",
      " [0.10288159 0.66336438 0.59700929 0.76742754 0.67789852]]\n",
      "Median along columns: [0.23482886 0.22955815 0.51132151 0.63674414 0.28007422]\n",
      "Median along rows: [0.37999999 0.09611726 0.61980691 0.44951068 0.66336438]\n",
      "Variance along columns: [0.04139708 0.07420063 0.02848905 0.11020684 0.04432333]\n",
      "Variance along rows: [0.01787901 0.02733176 0.11705144 0.04510961 0.05558453]\n"
     ]
    }
   ],
   "source": [
    "import numpy as np\n",
    "array = np.random.rand(5, 5)\n",
    "median_columns = np.median(array, axis=0)\n",
    "median_rows = np.median(array, axis=1)\n",
    "variance_columns = np.var(array, axis=0)\n",
    "variance_rows = np.var(array, axis=1)\n",
    "print(\"Array:\\n\", array)\n",
    "print(\"Median along columns:\", median_columns)\n",
    "print(\"Median along rows:\", median_rows)\n",
    "print(\"Variance along columns:\", variance_columns)\n",
    "print(\"Variance along rows:\", variance_rows)"
   ]
  },
  {
   "cell_type": "code",
   "execution_count": null,
   "id": "574d2216-6e8b-40f3-bd70-168fc31d26fe",
   "metadata": {},
   "outputs": [],
   "source": [
    "Question 10"
   ]
  },
  {
   "cell_type": "code",
   "execution_count": null,
   "id": "83b70c26-1bb4-4301-8103-b6965e8854b9",
   "metadata": {},
   "outputs": [],
   "source": [
    "import numpy as np\n",
    "matrix = np.random.randint(1, 11, (3, 3))\n",
    "subtracted = matrix - 2\n",
    "squared = matrix ** 2\n",
    "reciprocal = np.reciprocal(matrix)\n",
    "print(\"Original Matrix:\\n\", matrix)\n",
    "print(\"Subtracted 2:\\n\", subtracted)\n",
    "print(\"Squared:\\n\", squared)\n",
    "print(\"Reciprocal:\\n\", reciprocal)"
   ]
  },
  {
   "cell_type": "code",
   "execution_count": null,
   "id": "c52edc70-ef00-47b6-a84e-3f1fcc6c3eec",
   "metadata": {},
   "outputs": [],
   "source": [
    "PANDAS PROMBLEMS"
   ]
  },
  {
   "cell_type": "code",
   "execution_count": null,
   "id": "3aea2d3a-76b6-46ae-990e-039729f60191",
   "metadata": {},
   "outputs": [],
   "source": [
    "Question 1"
   ]
  },
  {
   "cell_type": "code",
   "execution_count": 38,
   "id": "2450cd87-e1d5-4bd3-a806-2ce7b93b0f39",
   "metadata": {},
   "outputs": [
    {
     "name": "stdout",
     "output_type": "stream",
     "text": [
      "    mpg  cylinders  displacement horsepower  weight  acceleration  model year  \\\n",
      "0  18.0          8         307.0        130    3504          12.0          70   \n",
      "1  15.0          8         350.0        165    3693          11.5          70   \n",
      "2  18.0          8         318.0        150    3436          11.0          70   \n",
      "3  16.0          8         304.0        150    3433          12.0          70   \n",
      "4  17.0          8         302.0        140    3449          10.5          70   \n",
      "5  15.0          8         429.0        198    4341          10.0          70   \n",
      "6  14.0          8         454.0        220    4354           9.0          70   \n",
      "7  14.0          8         440.0        215    4312           8.5          70   \n",
      "8  14.0          8         455.0        225    4425          10.0          70   \n",
      "9  15.0          8         390.0        190    3850           8.5          70   \n",
      "\n",
      "   origin                   car name  \n",
      "0       1  chevrolet chevelle malibu  \n",
      "1       1          buick skylark 320  \n",
      "2       1         plymouth satellite  \n",
      "3       1              amc rebel sst  \n",
      "4       1                ford torino  \n",
      "5       1           ford galaxie 500  \n",
      "6       1           chevrolet impala  \n",
      "7       1          plymouth fury iii  \n",
      "8       1           pontiac catalina  \n",
      "9       1         amc ambassador dpl  \n",
      "(398, 9)\n",
      "              mpg   cylinders  displacement       weight  acceleration  \\\n",
      "count  398.000000  398.000000    398.000000   398.000000    398.000000   \n",
      "mean    23.514573    5.454774    193.425879  2970.424623     15.568090   \n",
      "std      7.815984    1.701004    104.269838   846.841774      2.757689   \n",
      "min      9.000000    3.000000     68.000000  1613.000000      8.000000   \n",
      "25%     17.500000    4.000000    104.250000  2223.750000     13.825000   \n",
      "50%     23.000000    4.000000    148.500000  2803.500000     15.500000   \n",
      "75%     29.000000    8.000000    262.000000  3608.000000     17.175000   \n",
      "max     46.600000    8.000000    455.000000  5140.000000     24.800000   \n",
      "\n",
      "       model year      origin  \n",
      "count  398.000000  398.000000  \n",
      "mean    76.010050    1.572864  \n",
      "std      3.697627    0.802055  \n",
      "min     70.000000    1.000000  \n",
      "25%     73.000000    1.000000  \n",
      "50%     76.000000    1.000000  \n",
      "75%     79.000000    2.000000  \n",
      "max     82.000000    3.000000  \n"
     ]
    }
   ],
   "source": [
    "import pandas as pd\n",
    "df = pd.read_csv('remya-mpg.csv')\n",
    "print(df.head(10))\n",
    "print(df.shape)\n",
    "print(df.describe())"
   ]
  },
  {
   "cell_type": "code",
   "execution_count": null,
   "id": "b82df244-d468-44e2-b3d5-651009e8a573",
   "metadata": {},
   "outputs": [],
   "source": [
    "Question 2"
   ]
  },
  {
   "cell_type": "code",
   "execution_count": 14,
   "id": "0f86e969-abff-44f3-aec6-7f900ee3624b",
   "metadata": {},
   "outputs": [
    {
     "data": {
      "text/html": [
       "<div>\n",
       "<style scoped>\n",
       "    .dataframe tbody tr th:only-of-type {\n",
       "        vertical-align: middle;\n",
       "    }\n",
       "\n",
       "    .dataframe tbody tr th {\n",
       "        vertical-align: top;\n",
       "    }\n",
       "\n",
       "    .dataframe thead th {\n",
       "        text-align: right;\n",
       "    }\n",
       "</style>\n",
       "<table border=\"1\" class=\"dataframe\">\n",
       "  <thead>\n",
       "    <tr style=\"text-align: right;\">\n",
       "      <th></th>\n",
       "      <th>car name</th>\n",
       "      <th>model year</th>\n",
       "    </tr>\n",
       "  </thead>\n",
       "  <tbody>\n",
       "    <tr>\n",
       "      <th>167</th>\n",
       "      <td>toyota corolla</td>\n",
       "      <td>75</td>\n",
       "    </tr>\n",
       "    <tr>\n",
       "      <th>168</th>\n",
       "      <td>ford pinto</td>\n",
       "      <td>75</td>\n",
       "    </tr>\n",
       "    <tr>\n",
       "      <th>169</th>\n",
       "      <td>amc gremlin</td>\n",
       "      <td>75</td>\n",
       "    </tr>\n",
       "    <tr>\n",
       "      <th>170</th>\n",
       "      <td>pontiac astro</td>\n",
       "      <td>75</td>\n",
       "    </tr>\n",
       "    <tr>\n",
       "      <th>171</th>\n",
       "      <td>toyota corona</td>\n",
       "      <td>75</td>\n",
       "    </tr>\n",
       "    <tr>\n",
       "      <th>172</th>\n",
       "      <td>volkswagen dasher</td>\n",
       "      <td>75</td>\n",
       "    </tr>\n",
       "    <tr>\n",
       "      <th>173</th>\n",
       "      <td>datsun 710</td>\n",
       "      <td>75</td>\n",
       "    </tr>\n",
       "    <tr>\n",
       "      <th>174</th>\n",
       "      <td>ford pinto</td>\n",
       "      <td>75</td>\n",
       "    </tr>\n",
       "    <tr>\n",
       "      <th>175</th>\n",
       "      <td>volkswagen rabbit</td>\n",
       "      <td>75</td>\n",
       "    </tr>\n",
       "    <tr>\n",
       "      <th>177</th>\n",
       "      <td>audi 100ls</td>\n",
       "      <td>75</td>\n",
       "    </tr>\n",
       "    <tr>\n",
       "      <th>178</th>\n",
       "      <td>peugeot 504</td>\n",
       "      <td>75</td>\n",
       "    </tr>\n",
       "    <tr>\n",
       "      <th>179</th>\n",
       "      <td>volvo 244dl</td>\n",
       "      <td>75</td>\n",
       "    </tr>\n",
       "    <tr>\n",
       "      <th>180</th>\n",
       "      <td>saab 99le</td>\n",
       "      <td>75</td>\n",
       "    </tr>\n",
       "    <tr>\n",
       "      <th>181</th>\n",
       "      <td>honda civic cvcc</td>\n",
       "      <td>75</td>\n",
       "    </tr>\n",
       "  </tbody>\n",
       "</table>\n",
       "</div>"
      ],
      "text/plain": [
       "              car name  model year\n",
       "167     toyota corolla          75\n",
       "168         ford pinto          75\n",
       "169        amc gremlin          75\n",
       "170      pontiac astro          75\n",
       "171      toyota corona          75\n",
       "172  volkswagen dasher          75\n",
       "173         datsun 710          75\n",
       "174         ford pinto          75\n",
       "175  volkswagen rabbit          75\n",
       "177         audi 100ls          75\n",
       "178        peugeot 504          75\n",
       "179        volvo 244dl          75\n",
       "180          saab 99le          75\n",
       "181   honda civic cvcc          75"
      ]
     },
     "execution_count": 14,
     "metadata": {},
     "output_type": "execute_result"
    }
   ],
   "source": [
    "df[(df[\"weight\"] < 3000) & (df[\"model year\"] == 75)][[\"car name\", \"model year\"]]"
   ]
  },
  {
   "cell_type": "code",
   "execution_count": null,
   "id": "875fe9fc-6f16-4c65-95d2-3d2ef44c5f05",
   "metadata": {},
   "outputs": [],
   "source": [
    "Question 3"
   ]
  },
  {
   "cell_type": "code",
   "execution_count": 16,
   "id": "bf6b91ea-bc36-4343-8f19-0d6ec4baafbe",
   "metadata": {},
   "outputs": [
    {
     "name": "stdout",
     "output_type": "stream",
     "text": [
      "Missing values in the dataset:\n",
      "mpg             0\n",
      "cylinders       0\n",
      "displacement    0\n",
      "horsepower      0\n",
      "weight          0\n",
      "acceleration    0\n",
      "model year      0\n",
      "origin          0\n",
      "car name        0\n",
      "dtype: int64\n",
      "<bound method Series.median of 0      130\n",
      "1      165\n",
      "2      150\n",
      "3      150\n",
      "4      140\n",
      "      ... \n",
      "393     86\n",
      "394     52\n",
      "395     84\n",
      "396     79\n",
      "397     82\n",
      "Name: horsepower, Length: 398, dtype: object>\n",
      "\n",
      "Dataset after replacing missing values in 'horsepower':\n",
      "      mpg  cylinders  displacement horsepower  weight  acceleration  \\\n",
      "0    18.0          8         307.0        130    3504          12.0   \n",
      "1    15.0          8         350.0        165    3693          11.5   \n",
      "2    18.0          8         318.0        150    3436          11.0   \n",
      "3    16.0          8         304.0        150    3433          12.0   \n",
      "4    17.0          8         302.0        140    3449          10.5   \n",
      "..    ...        ...           ...        ...     ...           ...   \n",
      "393  27.0          4         140.0         86    2790          15.6   \n",
      "394  44.0          4          97.0         52    2130          24.6   \n",
      "395  32.0          4         135.0         84    2295          11.6   \n",
      "396  28.0          4         120.0         79    2625          18.6   \n",
      "397  31.0          4         119.0         82    2720          19.4   \n",
      "\n",
      "     model year  origin                   car name  \n",
      "0            70       1  chevrolet chevelle malibu  \n",
      "1            70       1          buick skylark 320  \n",
      "2            70       1         plymouth satellite  \n",
      "3            70       1              amc rebel sst  \n",
      "4            70       1                ford torino  \n",
      "..          ...     ...                        ...  \n",
      "393          82       1            ford mustang gl  \n",
      "394          82       2                  vw pickup  \n",
      "395          82       1              dodge rampage  \n",
      "396          82       1                ford ranger  \n",
      "397          82       1                 chevy s-10  \n",
      "\n",
      "[398 rows x 9 columns]\n"
     ]
    }
   ],
   "source": [
    "print(\"Missing values in the dataset:\")\n",
    "print(df.isnull().sum())\n",
    "horsepower_median = (df[\"horsepower\"].median)\n",
    "print(horsepower_median)\n",
    "df[\"horsepower\"].fillna(horsepower_median, inplace=True)\n",
    "print(\"\\nDataset after replacing missing values in 'horsepower':\")\n",
    "print(df)"
   ]
  },
  {
   "cell_type": "code",
   "execution_count": null,
   "id": "ee24b1a3-977d-4cee-8954-b40c473e9071",
   "metadata": {},
   "outputs": [],
   "source": [
    "Question 4"
   ]
  },
  {
   "cell_type": "code",
   "execution_count": 23,
   "id": "58f9249a-aed4-44a7-8d65-a0d2ecf1dea7",
   "metadata": {},
   "outputs": [
    {
     "name": "stdout",
     "output_type": "stream",
     "text": [
      "      mpg  cylinders  displacement  horsepower  weight  acceleration  \\\n",
      "0    18.0          8         307.0       130.0    3504          12.0   \n",
      "1    15.0          8         350.0       165.0    3693          11.5   \n",
      "2    18.0          8         318.0       150.0    3436          11.0   \n",
      "3    16.0          8         304.0       150.0    3433          12.0   \n",
      "4    17.0          8         302.0       140.0    3449          10.5   \n",
      "..    ...        ...           ...         ...     ...           ...   \n",
      "393  27.0          4         140.0        86.0    2790          15.6   \n",
      "394  44.0          4          97.0        52.0    2130          24.6   \n",
      "395  32.0          4         135.0        84.0    2295          11.6   \n",
      "396  28.0          4         120.0        79.0    2625          18.6   \n",
      "397  31.0          4         119.0        82.0    2720          19.4   \n",
      "\n",
      "     model year  origin                   car name  power_to_weight_ratio  \n",
      "0            70       1  chevrolet chevelle malibu               0.037100  \n",
      "1            70       1          buick skylark 320               0.044679  \n",
      "2            70       1         plymouth satellite               0.043655  \n",
      "3            70       1              amc rebel sst               0.043694  \n",
      "4            70       1                ford torino               0.040591  \n",
      "..          ...     ...                        ...                    ...  \n",
      "393          82       1            ford mustang gl               0.030824  \n",
      "394          82       2                  vw pickup               0.024413  \n",
      "395          82       1              dodge rampage               0.036601  \n",
      "396          82       1                ford ranger               0.030095  \n",
      "397          82       1                 chevy s-10               0.030147  \n",
      "\n",
      "[398 rows x 10 columns]\n"
     ]
    }
   ],
   "source": [
    "import pandas as pd\n",
    "\n",
    "df = pd.read_csv(\"remya-mpg.csv\")\n",
    "\n",
    "df['horsepower'] = pd.to_numeric(df['horsepower'], errors='coerce')\n",
    "df['weight'] = pd.to_numeric(df['weight'], errors='coerce')\n",
    "\n",
    "df['power_to_weight_ratio'] = df['horsepower'] / df['weight']\n",
    "\n",
    "print(df)\n"
   ]
  },
  {
   "cell_type": "code",
   "execution_count": null,
   "id": "66783d9a-39f7-4817-8493-3dbb53f32775",
   "metadata": {},
   "outputs": [],
   "source": [
    "Question 5"
   ]
  },
  {
   "cell_type": "code",
   "execution_count": 24,
   "id": "26647920-4e05-4d2c-9388-26a9902ea17f",
   "metadata": {},
   "outputs": [
    {
     "name": "stdout",
     "output_type": "stream",
     "text": [
      "origin\n",
      "1    20.083534\n",
      "2    27.891429\n",
      "3    30.450633\n",
      "Name: mpg, dtype: float64\n"
     ]
    }
   ],
   "source": [
    "import pandas as pd\n",
    "\n",
    "df = pd.read_csv(\"remya-mpg.csv\")\n",
    "\n",
    "mean_mpg_by_origin = df.groupby('origin')['mpg'].mean()\n",
    "\n",
    "print(mean_mpg_by_origin)\n"
   ]
  },
  {
   "cell_type": "code",
   "execution_count": null,
   "id": "cd380c8f-20c3-463a-aafb-ce952fbfca7a",
   "metadata": {},
   "outputs": [],
   "source": [
    "Question 6"
   ]
  },
  {
   "cell_type": "code",
   "execution_count": 27,
   "id": "2cf14bec-03c5-4636-b5a7-c519d7a759fb",
   "metadata": {},
   "outputs": [
    {
     "name": "stdout",
     "output_type": "stream",
     "text": [
      "      mpg  cylinders  displacement horsepower  weight  acceleration  \\\n",
      "322  46.6          4          86.0         65    2110          17.9   \n",
      "329  44.6          4          91.0         67    1850          13.8   \n",
      "325  44.3          4          90.0         48    2085          21.7   \n",
      "394  44.0          4          97.0         52    2130          24.6   \n",
      "326  43.4          4          90.0         48    2335          23.7   \n",
      "244  43.1          4          90.0         48    1985          21.5   \n",
      "309  41.5          4          98.0         76    2144          14.7   \n",
      "330  40.9          4          85.0          ?    1835          17.3   \n",
      "324  40.8          4          85.0         65    2110          19.2   \n",
      "247  39.4          4          85.0         70    2070          18.6   \n",
      "\n",
      "     model year  origin                         car name  performance_score  \n",
      "322          80       3                        mazda glc           0.395327  \n",
      "329          80       3              honda civic 1500 gl           0.332692  \n",
      "325          80       2             vw rabbit c (diesel)           0.461060  \n",
      "394          82       2                        vw pickup           0.508169  \n",
      "326          80       2               vw dasher (diesel)           0.440505  \n",
      "244          78       2  volkswagen rabbit custom diesel           0.466826  \n",
      "309          80       2                        vw rabbit           0.284538  \n",
      "330          80       2             renault lecar deluxe           0.385597  \n",
      "324          80       3                       datsun 210           0.371261  \n",
      "247          78       3                   datsun b210 gx           0.354029  \n"
     ]
    }
   ],
   "source": [
    "sort = df.sort_values(by=\"mpg\", ascending=False)\n",
    "top_10_cars = sort.head(10)\n",
    "print(top_10_cars)"
   ]
  },
  {
   "cell_type": "code",
   "execution_count": null,
   "id": "f9c0bd4f-8285-4cb3-887d-e2a8f3a7cbae",
   "metadata": {},
   "outputs": [],
   "source": [
    "Question 7"
   ]
  },
  {
   "cell_type": "code",
   "execution_count": 28,
   "id": "b2015d53-234f-45b5-8f73-bfa4c2fbb16c",
   "metadata": {},
   "outputs": [
    {
     "name": "stdout",
     "output_type": "stream",
     "text": [
      "      mpg  cylinders  displacement horsepower  weight  acceleration  \\\n",
      "0    18.0          8         307.0        130    3504          12.0   \n",
      "1    15.0          8         350.0        165    3693          11.5   \n",
      "2    18.0          8         318.0        150    3436          11.0   \n",
      "3    16.0          8         304.0        150    3433          12.0   \n",
      "4    17.0          8         302.0        140    3449          10.5   \n",
      "..    ...        ...           ...        ...     ...           ...   \n",
      "393  27.0          4         140.0         86    2790          15.6   \n",
      "394  44.0          4          97.0         52    2130          24.6   \n",
      "395  32.0          4         135.0         84    2295          11.6   \n",
      "396  28.0          4         120.0         79    2625          18.6   \n",
      "397  31.0          4         119.0         82    2720          19.4   \n",
      "\n",
      "     model year  origin                   car name  performance_score  \n",
      "0            70       1  chevrolet chevelle malibu           0.061644  \n",
      "1            70       1          buick skylark 320           0.046710  \n",
      "2            70       1         plymouth satellite           0.057625  \n",
      "3            70       1              amc rebel sst           0.055928  \n",
      "4            70       1                ford torino           0.051754  \n",
      "..          ...     ...                        ...                ...  \n",
      "393          82       1            ford mustang gl           0.150968  \n",
      "394          82       2                  vw pickup           0.508169  \n",
      "395          82       1              dodge rampage           0.161743  \n",
      "396          82       1                ford ranger           0.198400  \n",
      "397          82       1                 chevy s-10           0.221103  \n",
      "\n",
      "[398 rows x 10 columns]\n"
     ]
    }
   ],
   "source": [
    "import pandas as pd\n",
    "\n",
    "df = pd.read_csv(\"remya-mpg.csv\")\n",
    "\n",
    "def performance_score(row):\n",
    "    return row['mpg'] * row['acceleration'] / row['weight']\n",
    "\n",
    "df['performance_score'] = df.apply(performance_score, axis=1)\n",
    "\n",
    "print(df)\n"
   ]
  },
  {
   "cell_type": "code",
   "execution_count": null,
   "id": "c4ea739c-1f2b-46fd-8bd6-32d3903e537d",
   "metadata": {},
   "outputs": [],
   "source": [
    "Question 8"
   ]
  },
  {
   "cell_type": "code",
   "execution_count": 1,
   "id": "e82f22d2-56cc-475a-a7e5-0f95d96e83d9",
   "metadata": {},
   "outputs": [
    {
     "name": "stdout",
     "output_type": "stream",
     "text": [
      "    model year        mpg       weight  horsepower\n",
      "0           70  17.689655  3372.793103  147.827586\n",
      "1           71  21.250000  2995.428571  107.037037\n",
      "2           72  18.714286  3237.714286  120.178571\n",
      "3           73  17.100000  3419.025000  130.475000\n",
      "4           74  22.703704  2877.925926   94.230769\n",
      "5           75  20.266667  3176.800000  101.066667\n",
      "6           76  21.573529  3078.735294  101.117647\n",
      "7           77  23.375000  2997.357143  105.071429\n",
      "8           78  24.061111  2861.805556   99.694444\n",
      "9           79  25.093103  3055.344828  101.206897\n",
      "10          80  33.696552  2436.655172   77.481481\n",
      "11          81  30.334483  2522.931034   81.035714\n",
      "12          82  31.709677  2453.548387   81.466667\n"
     ]
    }
   ],
   "source": [
    "import pandas as pd\n",
    "\n",
    "df = pd.read_csv(\"remya-mpg.csv\")\n",
    "\n",
    "df['horsepower'] = pd.to_numeric(df['horsepower'], errors='coerce')\n",
    "df['weight'] = pd.to_numeric(df['weight'], errors='coerce')\n",
    "\n",
    "summary_df = df.groupby('model year')[['mpg', 'weight', 'horsepower']].mean().reset_index()\n",
    "\n",
    "print(summary_df)\n"
   ]
  },
  {
   "cell_type": "code",
   "execution_count": null,
   "id": "76a309f7-bbac-4a23-81f5-afb61ebbc745",
   "metadata": {},
   "outputs": [],
   "source": [
    "Question 9"
   ]
  },
  {
   "cell_type": "code",
   "execution_count": 36,
   "id": "dbccb7a4-36a4-49b6-a8a1-d70b8196443f",
   "metadata": {},
   "outputs": [
    {
     "name": "stdout",
     "output_type": "stream",
     "text": [
      "      mpg  cylinders  horsepower  weight\n",
      "53   31.0          4        65.0    1773\n",
      "54   35.0          4        69.0    1613\n",
      "129  31.0          4        67.0    1950\n",
      "131  32.0          4        65.0    1836\n",
      "144  31.0          4        52.0    1649\n",
      "..    ...        ...         ...     ...\n",
      "390  32.0          4        96.0    2665\n",
      "391  36.0          4        84.0    2370\n",
      "394  44.0          4        52.0    2130\n",
      "395  32.0          4        84.0    2295\n",
      "397  31.0          4        82.0    2720\n",
      "\n",
      "[85 rows x 4 columns]\n"
     ]
    }
   ],
   "source": [
    "high_mpg_cars = df[df[\"mpg\"] > 30]\n",
    "high_mpg_cars_subset = high_mpg_cars[[\"mpg\", \"cylinders\", \"horsepower\", \"weight\"]]\n",
    "high_mpg_cars_subset.to_csv(\"high_mpg_cars.csv\")\n",
    "print(high_mpg_cars_subset)"
   ]
  },
  {
   "cell_type": "code",
   "execution_count": null,
   "id": "8a145b84-f7e9-435f-bcbd-a6c86546af0a",
   "metadata": {},
   "outputs": [],
   "source": [
    "Question 10"
   ]
  },
  {
   "cell_type": "code",
   "execution_count": 37,
   "id": "f1a5468f-830c-4fb7-a629-b9a54a725f0e",
   "metadata": {},
   "outputs": [
    {
     "name": "stdout",
     "output_type": "stream",
     "text": [
      "      car name   mpg  model year\n",
      "322  mazda glc  46.6          80\n"
     ]
    }
   ],
   "source": [
    "import pandas as pd\n",
    "\n",
    "df = pd.read_csv(\"remya-mpg.csv\")\n",
    "\n",
    "Q1 = df['mpg'].quantile(0.25)\n",
    "Q3 = df['mpg'].quantile(0.75)\n",
    "IQR = Q3 - Q1\n",
    "\n",
    "lower_bound = Q1 - 1.5 * IQR\n",
    "upper_bound = Q3 + 1.5 * IQR\n",
    "\n",
    "outliers = df[(df['mpg'] < lower_bound) | (df['mpg'] > upper_bound)][['car name', 'mpg', 'model year']]\n",
    "\n",
    "print(outliers)\n"
   ]
  },
  {
   "cell_type": "code",
   "execution_count": null,
   "id": "9e2d417b-1e4e-4bff-94d8-661c43fd3698",
   "metadata": {},
   "outputs": [],
   "source": []
  }
 ],
 "metadata": {
  "kernelspec": {
   "display_name": "Python 3 (ipykernel)",
   "language": "python",
   "name": "python3"
  },
  "language_info": {
   "codemirror_mode": {
    "name": "ipython",
    "version": 3
   },
   "file_extension": ".py",
   "mimetype": "text/x-python",
   "name": "python",
   "nbconvert_exporter": "python",
   "pygments_lexer": "ipython3",
   "version": "3.13.2"
  }
 },
 "nbformat": 4,
 "nbformat_minor": 5
}
