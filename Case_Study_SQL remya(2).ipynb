{
 "cells": [
  {
   "cell_type": "markdown",
   "metadata": {
    "id": "WEiBwlhgYtYx"
   },
   "source": [
    "# Case Study on SQL\n"
   ]
  },
  {
   "cell_type": "code",
   "execution_count": null,
   "metadata": {
    "id": "Q6xrAf0CgwyW"
   },
   "outputs": [],
   "source": [
    "import sqlite3\n",
    "import pandas as pd"
   ]
  },
  {
   "cell_type": "code",
   "execution_count": null,
   "metadata": {
    "id": "YOO65TNTg7fg"
   },
   "outputs": [],
   "source": [
    "def load_imdb_database(db_path):\n",
    "  try:\n",
    "    conn = sqlite3.connect(db_path)\n",
    "    print(\"IMDB database loaded successfully.\")\n",
    "    return conn\n",
    "  except sqlite3.Error as e:\n",
    "    print(f\"Error loading IMDB database: {e}\")\n",
    "    return None"
   ]
  },
  {
   "cell_type": "code",
   "execution_count": null,
   "metadata": {
    "colab": {
     "base_uri": "https://localhost:8080/"
    },
    "id": "-0Th69XEghxi",
    "outputId": "d560fd50-0f2f-4462-a15e-46ddcb114534"
   },
   "outputs": [
    {
     "name": "stdout",
     "output_type": "stream",
     "text": [
      "IMDB database loaded successfully.\n",
      "Connection successful\n"
     ]
    }
   ],
   "source": [
    "db_path = \"imdb.db\"\n",
    "conn = load_imdb_database(db_path)\n",
    "\n",
    "if conn:\n",
    "  print(\"Connection successful\")\n",
    "  cursor = conn.cursor()"
   ]
  },
  {
   "cell_type": "markdown",
   "metadata": {
    "id": "OyMdDsyWakEL"
   },
   "source": [
    "## Following is the schema of the IMDB database. It lists all tables and their schemas.\n",
    "\n"
   ]
  },
  {
   "cell_type": "code",
   "execution_count": null,
   "metadata": {
    "colab": {
     "base_uri": "https://localhost:8080/"
    },
    "id": "QHglU6mobmV3",
    "outputId": "c7f47151-a58d-46aa-e34a-be12da99d498"
   },
   "outputs": [
    {
     "name": "stdout",
     "output_type": "stream",
     "text": [
      "Database Schema:\n",
      "\n",
      "Table: Movie\n",
      "Columns:\n",
      "  - index (INTEGER), NOT NULL: False, Default: None, Primary Key: False\n",
      "  - MID (TEXT), NOT NULL: False, Default: None, Primary Key: False\n",
      "  - title (TEXT), NOT NULL: False, Default: None, Primary Key: False\n",
      "  - year (TEXT), NOT NULL: False, Default: None, Primary Key: False\n",
      "  - rating (REAL), NOT NULL: False, Default: None, Primary Key: False\n",
      "  - num_votes (INTEGER), NOT NULL: False, Default: None, Primary Key: False\n",
      "\n",
      "Table: Genre\n",
      "Columns:\n",
      "  - index (INTEGER), NOT NULL: False, Default: None, Primary Key: False\n",
      "  - Name (TEXT), NOT NULL: False, Default: None, Primary Key: False\n",
      "  - GID (INTEGER), NOT NULL: False, Default: None, Primary Key: False\n",
      "\n",
      "Table: Language\n",
      "Columns:\n",
      "  - index (INTEGER), NOT NULL: False, Default: None, Primary Key: False\n",
      "  - Name (TEXT), NOT NULL: False, Default: None, Primary Key: False\n",
      "  - LAID (INTEGER), NOT NULL: False, Default: None, Primary Key: False\n",
      "\n",
      "Table: Country\n",
      "Columns:\n",
      "  - index (INTEGER), NOT NULL: False, Default: None, Primary Key: False\n",
      "  - Name (TEXT), NOT NULL: False, Default: None, Primary Key: False\n",
      "  - CID (INTEGER), NOT NULL: False, Default: None, Primary Key: False\n",
      "\n",
      "Table: Location\n",
      "Columns:\n",
      "  - index (INTEGER), NOT NULL: False, Default: None, Primary Key: False\n",
      "  - Name (TEXT), NOT NULL: False, Default: None, Primary Key: False\n",
      "  - LID (INTEGER), NOT NULL: False, Default: None, Primary Key: False\n",
      "\n",
      "Table: M_Location\n",
      "Columns:\n",
      "  - index (INTEGER), NOT NULL: False, Default: None, Primary Key: False\n",
      "  - MID (TEXT), NOT NULL: False, Default: None, Primary Key: False\n",
      "  - LID (REAL), NOT NULL: False, Default: None, Primary Key: False\n",
      "  - ID (INTEGER), NOT NULL: False, Default: None, Primary Key: False\n",
      "\n",
      "Table: M_Country\n",
      "Columns:\n",
      "  - index (INTEGER), NOT NULL: False, Default: None, Primary Key: False\n",
      "  - MID (TEXT), NOT NULL: False, Default: None, Primary Key: False\n",
      "  - CID (REAL), NOT NULL: False, Default: None, Primary Key: False\n",
      "  - ID (INTEGER), NOT NULL: False, Default: None, Primary Key: False\n",
      "\n",
      "Table: M_Language\n",
      "Columns:\n",
      "  - index (INTEGER), NOT NULL: False, Default: None, Primary Key: False\n",
      "  - MID (TEXT), NOT NULL: False, Default: None, Primary Key: False\n",
      "  - LAID (INTEGER), NOT NULL: False, Default: None, Primary Key: False\n",
      "  - ID (INTEGER), NOT NULL: False, Default: None, Primary Key: False\n",
      "\n",
      "Table: M_Genre\n",
      "Columns:\n",
      "  - index (INTEGER), NOT NULL: False, Default: None, Primary Key: False\n",
      "  - MID (TEXT), NOT NULL: False, Default: None, Primary Key: False\n",
      "  - GID (INTEGER), NOT NULL: False, Default: None, Primary Key: False\n",
      "  - ID (INTEGER), NOT NULL: False, Default: None, Primary Key: False\n",
      "\n",
      "Table: Person\n",
      "Columns:\n",
      "  - index (INTEGER), NOT NULL: False, Default: None, Primary Key: False\n",
      "  - PID (TEXT), NOT NULL: False, Default: None, Primary Key: False\n",
      "  - Name (TEXT), NOT NULL: False, Default: None, Primary Key: False\n",
      "  - Gender (TEXT), NOT NULL: False, Default: None, Primary Key: False\n",
      "\n",
      "Table: M_Producer\n",
      "Columns:\n",
      "  - index (INTEGER), NOT NULL: False, Default: None, Primary Key: False\n",
      "  - MID (TEXT), NOT NULL: False, Default: None, Primary Key: False\n",
      "  - PID (TEXT), NOT NULL: False, Default: None, Primary Key: False\n",
      "  - ID (INTEGER), NOT NULL: False, Default: None, Primary Key: False\n",
      "\n",
      "Table: M_Director\n",
      "Columns:\n",
      "  - index (INTEGER), NOT NULL: False, Default: None, Primary Key: False\n",
      "  - MID (TEXT), NOT NULL: False, Default: None, Primary Key: False\n",
      "  - PID (TEXT), NOT NULL: False, Default: None, Primary Key: False\n",
      "  - ID (INTEGER), NOT NULL: False, Default: None, Primary Key: False\n",
      "\n",
      "Table: M_Cast\n",
      "Columns:\n",
      "  - index (INTEGER), NOT NULL: False, Default: None, Primary Key: False\n",
      "  - MID (TEXT), NOT NULL: False, Default: None, Primary Key: False\n",
      "  - PID (TEXT), NOT NULL: False, Default: None, Primary Key: False\n",
      "  - ID (INTEGER), NOT NULL: False, Default: None, Primary Key: False\n"
     ]
    }
   ],
   "source": [
    "cursor.execute(\"SELECT name FROM sqlite_master WHERE type='table';\")\n",
    "tables = cursor.fetchall()\n",
    "\n",
    "print(\"Database Schema:\")\n",
    "for table in tables:\n",
    "    table_name = table[0]\n",
    "    print(f\"\\nTable: {table_name}\")\n",
    "\n",
    "    cursor.execute(f\"PRAGMA table_info({table_name});\")\n",
    "    schema = cursor.fetchall()\n",
    "\n",
    "    print(\"Columns:\")\n",
    "    for column in schema:\n",
    "        cid, name, dtype, notnull, dflt_value, pk = column\n",
    "        print(f\"  - {name} ({dtype}), NOT NULL: {bool(notnull)}, Default: {dflt_value}, Primary Key: {bool(pk)}\")"
   ]
  },
  {
   "cell_type": "markdown",
   "metadata": {
    "id": "At0HJhxwcWMV"
   },
   "source": [
    "# Write SQL queries for the following questions"
   ]
  },
  {
   "cell_type": "markdown",
   "metadata": {
    "id": "cHeY-4I-Y1Go"
   },
   "source": [
    "## 1. Write query to list first 5 rows of Person table\n",
    "\n",
    "\n",
    "\n"
   ]
  },
  {
   "cell_type": "code",
   "execution_count": 2,
   "metadata": {
    "id": "yTksEs_JHuK8"
   },
   "outputs": [
    {
     "data": {
      "text/plain": [
       "'select * from person limit 5'"
      ]
     },
     "execution_count": 2,
     "metadata": {},
     "output_type": "execute_result"
    }
   ],
   "source": [
    "q1= \"\"\"select * from person limit 5\"\"\""
   ]
  },
  {
   "cell_type": "code",
   "execution_count": null,
   "metadata": {
    "colab": {
     "base_uri": "https://localhost:8080/"
    },
    "id": "19rLGemCcoak",
    "outputId": "1dd3ed98-7c73-444d-af96-ec475c553487"
   },
   "outputs": [
    {
     "name": "stdout",
     "output_type": "stream",
     "text": [
      "True\n"
     ]
    }
   ],
   "source": [
    "def q1_grader(q1):\n",
    "  result = pd.read_sql_query(q1, conn)\n",
    "  return result.shape == (5, 4)\n",
    "print(q1_grader(q1))"
   ]
  },
  {
   "cell_type": "markdown",
   "metadata": {
    "id": "Cmuvp9h7dZWu"
   },
   "source": [
    "## 2. Write query to select title, year and rating from Movie table"
   ]
  },
  {
   "cell_type": "code",
   "execution_count": 3,
   "metadata": {
    "id": "g7MI-hJycPtn"
   },
   "outputs": [],
   "source": [
    "q2 = \"\"\"select title,year,rating from movie\"\"\""
   ]
  },
  {
   "cell_type": "code",
   "execution_count": null,
   "metadata": {
    "colab": {
     "base_uri": "https://localhost:8080/"
    },
    "id": "gyk9b2uvd5O6",
    "outputId": "15d217f4-f3c1-475a-b0ec-ce1c2557d113"
   },
   "outputs": [
    {
     "name": "stdout",
     "output_type": "stream",
     "text": [
      "True\n"
     ]
    }
   ],
   "source": [
    "def q2_grader(q2):\n",
    "  result = pd.read_sql_query(q2, conn)\n",
    "  return result.shape == (3473, 3) and result['title'][0]=='Mowgli'\n",
    "print(q2_grader(q2))"
   ]
  },
  {
   "cell_type": "markdown",
   "metadata": {
    "id": "EvD979LNeaFm"
   },
   "source": [
    "## 3. Write query to get title of first movie in movie table sorted by year in ascending order\n"
   ]
  },
  {
   "cell_type": "code",
   "execution_count": 4,
   "metadata": {
    "id": "noFVuK27eczz"
   },
   "outputs": [],
   "source": [
    "q3 =  \"\"\"select title \n",
    "from movie \n",
    "order by year asc\n",
    "limit 1\"\"\""
   ]
  },
  {
   "cell_type": "code",
   "execution_count": null,
   "metadata": {
    "colab": {
     "base_uri": "https://localhost:8080/"
    },
    "id": "jpGuMnkveeU5",
    "outputId": "c3cdb6ab-945c-4d53-be90-3b353d536dc9"
   },
   "outputs": [
    {
     "name": "stdout",
     "output_type": "stream",
     "text": [
      "0    True\n",
      "Name: title, dtype: bool\n"
     ]
    }
   ],
   "source": [
    "def q3_grader(q3):\n",
    "  result = pd.read_sql_query(q3, conn)\n",
    "  return result['title']=='Alam Ara'\n",
    "print(q3_grader(q3))"
   ]
  },
  {
   "cell_type": "markdown",
   "metadata": {
    "id": "ZQVPvM8qgl3k"
   },
   "source": [
    "## 4. Write query to get the very first year in which Devdas movie was released"
   ]
  },
  {
   "cell_type": "code",
   "execution_count": 5,
   "metadata": {
    "id": "DbvKV1XXgmd9"
   },
   "outputs": [],
   "source": [
    "q4 =  \"\"\"select year \n",
    "from movie\n",
    "where title ='Devdas'\n",
    "order by year asc\n",
    "limit 1\"\"\""
   ]
  },
  {
   "cell_type": "code",
   "execution_count": null,
   "metadata": {
    "colab": {
     "base_uri": "https://localhost:8080/"
    },
    "id": "SJWlc4gCg6Gn",
    "outputId": "5e59c08b-09cf-405e-cd84-76e2c9f606d7"
   },
   "outputs": [
    {
     "name": "stdout",
     "output_type": "stream",
     "text": [
      "0    True\n",
      "Name: year, dtype: bool\n"
     ]
    }
   ],
   "source": [
    "def q4_grader(q4):\n",
    "  result = pd.read_sql_query(q4, conn)\n",
    "  return result['year']=='1936'\n",
    "print(q4_grader(q4))"
   ]
  },
  {
   "cell_type": "markdown",
   "metadata": {
    "id": "sLHeXz_siuSW"
   },
   "source": [
    "## 5. Write query to get the number of movies released in 2018"
   ]
  },
  {
   "cell_type": "code",
   "execution_count": 6,
   "metadata": {
    "id": "fErMDcrFiuzw"
   },
   "outputs": [],
   "source": [
    "q5 = \"\"\"select count(title) from movie\n",
    "where year =2018 \"\"\""
   ]
  },
  {
   "cell_type": "code",
   "execution_count": null,
   "metadata": {
    "colab": {
     "base_uri": "https://localhost:8080/"
    },
    "id": "mV2gadLKi6ow",
    "outputId": "1980a205-2bbd-492f-ea81-cdca16afcfc2"
   },
   "outputs": [
    {
     "name": "stdout",
     "output_type": "stream",
     "text": [
      "True\n"
     ]
    }
   ],
   "source": [
    "def q5_grader(q5):\n",
    "  result = pd.read_sql_query(q5, conn)\n",
    "  return result.iloc[0, 0] == 93\n",
    "print(q5_grader(q5))"
   ]
  },
  {
   "cell_type": "markdown",
   "metadata": {
    "id": "95Y3MGgsndph"
   },
   "source": [
    "## 6. Write query to get the title of the movie with most number of votes in 2012"
   ]
  },
  {
   "cell_type": "code",
   "execution_count": 7,
   "metadata": {
    "id": "SK-BCCy2j2tz"
   },
   "outputs": [],
   "source": [
    "q6 = \"\"\"select title from movie\n",
    "where year=2012\n",
    "order by num_votes desc\n",
    "limit 1\"\"\""
   ]
  },
  {
   "cell_type": "code",
   "execution_count": null,
   "metadata": {
    "colab": {
     "base_uri": "https://localhost:8080/"
    },
    "id": "1s8NPuftj6kO",
    "outputId": "c11fd94d-a38d-4a22-879f-a8caee834709"
   },
   "outputs": [
    {
     "name": "stdout",
     "output_type": "stream",
     "text": [
      "0    True\n",
      "Name: title, dtype: bool\n"
     ]
    }
   ],
   "source": [
    "def q6_grader(q6):\n",
    "  result = pd.read_sql_query(q6, conn)\n",
    "  return result[\"title\"]==\"The Avengers\"\n",
    "print(q6_grader(q6))"
   ]
  },
  {
   "cell_type": "markdown",
   "metadata": {
    "id": "anmreTN2zRzL"
   },
   "source": [
    "## 7. Write SQL query to find all the unique movie titles released in 2018"
   ]
  },
  {
   "cell_type": "code",
   "execution_count": 9,
   "metadata": {
    "id": "T3gG0QsPzSQz"
   },
   "outputs": [],
   "source": [
    "q7 =\"\"\"select unique title\n",
    "from movie\n",
    "where year=2018\n",
    "\"\"\""
   ]
  },
  {
   "cell_type": "code",
   "execution_count": null,
   "metadata": {
    "colab": {
     "base_uri": "https://localhost:8080/"
    },
    "id": "ndp9snvBz0U5",
    "outputId": "1a202f78-4ec3-48ac-d81f-427d0d2527ee"
   },
   "outputs": [
    {
     "name": "stdout",
     "output_type": "stream",
     "text": [
      "True\n"
     ]
    }
   ],
   "source": [
    "def q7_grader(q7):\n",
    "  result = pd.read_sql_query(q7, conn)\n",
    "  return result.shape==(93, 1)\n",
    "print(q7_grader(q7))"
   ]
  },
  {
   "cell_type": "markdown",
   "metadata": {
    "id": "TZEjK38M1Q8q"
   },
   "source": [
    "## 8. Write SQL query to get total number of movies released between 2017 (inclusive) and 2018 (inclusive)"
   ]
  },
  {
   "cell_type": "code",
   "execution_count": 10,
   "metadata": {
    "id": "vXz5lPZ80j3-"
   },
   "outputs": [],
   "source": [
    "q8 = \"\"\"select count(title) from movie\n",
    "where year between 2017 and 2018\"\"\""
   ]
  },
  {
   "cell_type": "code",
   "execution_count": null,
   "metadata": {
    "colab": {
     "base_uri": "https://localhost:8080/"
    },
    "id": "p9wXgEae02ZV",
    "outputId": "97f742e2-4dcf-42d6-b799-39f4bdb4890f"
   },
   "outputs": [
    {
     "name": "stdout",
     "output_type": "stream",
     "text": [
      "True\n"
     ]
    }
   ],
   "source": [
    "def q8_grader(q8):\n",
    "  result = pd.read_sql_query(q8, conn)\n",
    "  return result.iloc[0, 0] == 211\n",
    "print(q8_grader(q8))"
   ]
  },
  {
   "cell_type": "markdown",
   "metadata": {
    "id": "L7WKxoUU3Ai6"
   },
   "source": [
    "## 9. Write SQL query to find the year in which maximum number of movies released"
   ]
  },
  {
   "cell_type": "code",
   "execution_count": 11,
   "metadata": {
    "id": "fktY0SbY1qSA"
   },
   "outputs": [],
   "source": [
    "q9 = \"\"\"select year, count(title) from movie\n",
    "group by year\n",
    "order by count(title) desc\n",
    "limit 1\"\"\""
   ]
  },
  {
   "cell_type": "code",
   "execution_count": null,
   "metadata": {
    "colab": {
     "base_uri": "https://localhost:8080/"
    },
    "id": "yiYfQr1R13As",
    "outputId": "85900d61-2666-482a-df77-b2807c45eb58"
   },
   "outputs": [
    {
     "name": "stdout",
     "output_type": "stream",
     "text": [
      "True\n"
     ]
    }
   ],
   "source": [
    "def q9_grader(q9):\n",
    "  result = pd.read_sql_query(q9, conn)\n",
    "  return result[\"year\"][0]==\"2005\"\n",
    "print(q9_grader(q9))"
   ]
  },
  {
   "cell_type": "markdown",
   "metadata": {
    "id": "dP2eLdzq7lBM"
   },
   "source": [
    "## 10. Write SQL query to find the title of the movie with rating>9.5 and number of votes > 90"
   ]
  },
  {
   "cell_type": "code",
   "execution_count": 12,
   "metadata": {
    "id": "DUCNjcQM3VG-"
   },
   "outputs": [],
   "source": [
    "q10 = \"\"\"select title from movie\n",
    "where rating>9.5 and num_votes>90\"\"\""
   ]
  },
  {
   "cell_type": "code",
   "execution_count": null,
   "metadata": {
    "colab": {
     "base_uri": "https://localhost:8080/"
    },
    "id": "njqsiZo-3e6o",
    "outputId": "db8d034e-1fdf-42af-cef9-917b22995502"
   },
   "outputs": [
    {
     "name": "stdout",
     "output_type": "stream",
     "text": [
      "True\n"
     ]
    }
   ],
   "source": [
    "def q10_grader(q10):\n",
    "  result = pd.read_sql_query(q10, conn)\n",
    "  return result[\"title\"][0]==\"Man on Mission Fauladi\"\n",
    "print(q10_grader(q10))"
   ]
  },
  {
   "cell_type": "markdown",
   "metadata": {
    "id": "7Ov94gw_949N"
   },
   "source": [
    "## 11. Write SQL query to find the number of movies which has the word 'Dilwale' in their title"
   ]
  },
  {
   "cell_type": "code",
   "execution_count": null,
   "metadata": {
    "id": "9T5y3B1z8H4v"
   },
   "outputs": [],
   "source": [
    "q11 = \"\"\"select count(title) from movie\n",
    "where title like '%dilwale%'\"\"\""
   ]
  },
  {
   "cell_type": "code",
   "execution_count": null,
   "metadata": {
    "colab": {
     "base_uri": "https://localhost:8080/"
    },
    "id": "gvtXmjaz8lfg",
    "outputId": "77fa6a10-db36-4dd7-e405-57fee7b368de"
   },
   "outputs": [
    {
     "name": "stdout",
     "output_type": "stream",
     "text": [
      "True\n"
     ]
    }
   ],
   "source": [
    "def q11_grader(q11):\n",
    "  result = pd.read_sql_query(q11, conn)\n",
    "  return result.iloc[0, 0] == 4\n",
    "print(q11_grader(q11))"
   ]
  },
  {
   "cell_type": "markdown",
   "metadata": {
    "id": "5PaMaYb6AwgQ"
   },
   "source": [
    "## 12. Write nested SQL query to find the CID of country which produced most number of movies"
   ]
  },
  {
   "cell_type": "code",
   "execution_count": null,
   "metadata": {
    "id": "Ey1GZDoG-t2n"
   },
   "outputs": [],
   "source": [
    "q12 = \"\"\"select cid\n",
    "from (\n",
    "    select cid, count(mid) \n",
    "    from m_country\n",
    "    group by cid\n",
    "    order by count(mid) desc\n",
    "    limit 1\n",
    ") \"\"\""
   ]
  },
  {
   "cell_type": "code",
   "execution_count": null,
   "metadata": {
    "colab": {
     "base_uri": "https://localhost:8080/"
    },
    "id": "5gHU4XQO-0E-",
    "outputId": "8d929b47-bdd5-4c1d-98bd-7665060822e8"
   },
   "outputs": [
    {
     "name": "stdout",
     "output_type": "stream",
     "text": [
      "CID    True\n",
      "Name: 0, dtype: bool\n"
     ]
    }
   ],
   "source": [
    "def q12_grader(q12):\n",
    "  result = pd.read_sql_query(q12, conn)\n",
    "  return result.iloc[0]==2.0\n",
    "print(q12_grader(q12))"
   ]
  },
  {
   "cell_type": "markdown",
   "metadata": {
    "id": "F0E3Nw4nD7ux"
   },
   "source": [
    "## 13. Write nested SQL query to the country which produced most number of movies (use both Courty table and M_Country table)"
   ]
  },
  {
   "cell_type": "code",
   "execution_count": 13,
   "metadata": {
    "id": "kJaN-L9aBY4Q"
   },
   "outputs": [],
   "source": [
    "q13 = \"\"\"select name from country\n",
    "join (\n",
    "    select cid, count(mid) \n",
    "    from M_country\n",
    "    group by cid\n",
    "    order by count(mid) desc\n",
    "    limit 1\n",
    ") as country_name on country.cid=country_name.cid\"\"\""
   ]
  },
  {
   "cell_type": "code",
   "execution_count": null,
   "metadata": {
    "colab": {
     "base_uri": "https://localhost:8080/"
    },
    "id": "L8JOMcpjBqZo",
    "outputId": "e939cfbb-9357-4d81-8b3a-bf09e3d91d09"
   },
   "outputs": [
    {
     "name": "stdout",
     "output_type": "stream",
     "text": [
      "True\n"
     ]
    }
   ],
   "source": [
    "def q13_grader(q13):\n",
    "  result = pd.read_sql_query(q13, conn)\n",
    "  return result.iloc[0, 0] == \"India\"\n",
    "print(q13_grader(q13))"
   ]
  },
  {
   "cell_type": "markdown",
   "metadata": {
    "id": "OHcgp0uCF003"
   },
   "source": [
    "## 14. Write SQL query to get the year and number of movies per year having number of movies per year is greater than 100"
   ]
  },
  {
   "cell_type": "code",
   "execution_count": null,
   "metadata": {
    "id": "AmIL0LgMENl_"
   },
   "outputs": [],
   "source": [
    "q14 = \"\"\"select year, count(title) \n",
    "from movie\n",
    "group by year\n",
    "having count(title) > 100;\"\"\""
   ]
  },
  {
   "cell_type": "code",
   "execution_count": null,
   "metadata": {
    "colab": {
     "base_uri": "https://localhost:8080/"
    },
    "id": "RWWaEwJtE6Uj",
    "outputId": "0ce7ac38-5728-42a7-dea2-9a756d205814"
   },
   "outputs": [
    {
     "name": "stdout",
     "output_type": "stream",
     "text": [
      "True\n"
     ]
    }
   ],
   "source": [
    "def q14_grader(q14):\n",
    "  result = pd.read_sql_query(q14, conn)\n",
    "  return result.shape==(13,2)\n",
    "print(q14_grader(q14))"
   ]
  },
  {
   "cell_type": "markdown",
   "metadata": {
    "id": "LcrzqodqG-Ae"
   },
   "source": [
    "## 15. Write SQL query to get the Name and Language ID (LAID) corresponding to Malayalam language"
   ]
  },
  {
   "cell_type": "code",
   "execution_count": 14,
   "metadata": {
    "id": "mZ7EH8emGXJg"
   },
   "outputs": [],
   "source": [
    "q15 = \"\"\"select name, LAID\n",
    "from Language\n",
    "where name = 'Malayalam'\"\"\""
   ]
  },
  {
   "cell_type": "code",
   "execution_count": null,
   "metadata": {
    "colab": {
     "base_uri": "https://localhost:8080/"
    },
    "id": "rVRZJXwoGcdX",
    "outputId": "3767df17-3922-4dc6-f93a-7f81764748d8"
   },
   "outputs": [
    {
     "name": "stdout",
     "output_type": "stream",
     "text": [
      "   index       Name  LAID\n",
      "0     19  Malayalam    19\n",
      "True\n"
     ]
    }
   ],
   "source": [
    "def q15_grader(q15):\n",
    "  result = pd.read_sql_query(q15, conn)\n",
    "  print(result)\n",
    "  return result[[\"Name\", \"LAID\"]].values.tolist() == [['Malayalam', 19]]\n",
    "print(q15_grader(q15))"
   ]
  },
  {
   "cell_type": "markdown",
   "metadata": {
    "id": "DvPnI7MDJVoT"
   },
   "source": [
    "## 16. Write SQL query to do inner join with movie table and M_Language table with MID colums"
   ]
  },
  {
   "cell_type": "code",
   "execution_count": 15,
   "metadata": {
    "id": "ZPO83_w1Hxco"
   },
   "outputs": [],
   "source": [
    "q16 = \"\"\"select*from movie \n",
    "inner join m_language \n",
    "on movie.MID = m_language.MID; \"\"\""
   ]
  },
  {
   "cell_type": "code",
   "execution_count": null,
   "metadata": {
    "colab": {
     "base_uri": "https://localhost:8080/"
    },
    "id": "S89KrFeQIWuv",
    "outputId": "0d34f226-589e-479a-8fc4-500d4ee43243"
   },
   "outputs": [
    {
     "name": "stdout",
     "output_type": "stream",
     "text": [
      "              title  year  LAID\n",
      "0            Mowgli  2018     0\n",
      "1     Ocean's Eight  2018     0\n",
      "2       Tomb Raider  2018     0\n",
      "3      The Avengers  2012     0\n",
      "4           Tumbbad  2018     1\n",
      "...             ...   ...   ...\n",
      "3468    Allah-Rakha  1986     2\n",
      "3469          Anari  1993     2\n",
      "3470  Come December  2006     2\n",
      "3471     Kala Jigar  1939     2\n",
      "3472         Kanoon  1994     2\n",
      "\n",
      "[3473 rows x 3 columns]\n"
     ]
    }
   ],
   "source": [
    "def q16_grader(q16):\n",
    "  result = pd.read_sql_query(q16, conn)\n",
    "  return result\n",
    "print(q16_grader(q16))"
   ]
  },
  {
   "cell_type": "markdown",
   "metadata": {
    "id": "vhF0SQu5Lthd"
   },
   "source": [
    "## 17. Write SQL query to list title, year and rating of malayalam movies in the database by doing an inner join with movie table and M_Language table with MID column, also assuming language ID of malayalam movies as 19"
   ]
  },
  {
   "cell_type": "code",
   "execution_count": 16,
   "metadata": {
    "id": "yHB7KI-wKw3p"
   },
   "outputs": [],
   "source": [
    "q17 = \"\"\"select title, year, rating\n",
    "from movie \n",
    "inner join m_language \n",
    "on movie.MID = m_language.MID\n",
    "where m_language.LAID = 19;\"\"\""
   ]
  },
  {
   "cell_type": "code",
   "execution_count": null,
   "metadata": {
    "colab": {
     "base_uri": "https://localhost:8080/"
    },
    "id": "Ji5W5cemLX0a",
    "outputId": "1f8d1258-02e8-4854-afe3-b9583b1e4f2b"
   },
   "outputs": [
    {
     "name": "stdout",
     "output_type": "stream",
     "text": [
      "True\n"
     ]
    }
   ],
   "source": [
    "def q17_grader(q17):\n",
    "  result = pd.read_sql_query(q17, conn)\n",
    "  return result.shape==(16,3)\n",
    "print(q17_grader(q17))"
   ]
  },
  {
   "cell_type": "code",
   "execution_count": null,
   "metadata": {
    "id": "GhjTNuPwqO7z"
   },
   "outputs": [],
   "source": [
    "![ -f academic.db ] && rm academic.db\n",
    "\n",
    "conn = sqlite3.connect(\"academic.db\")\n",
    "cursor = conn.cursor()"
   ]
  },
  {
   "cell_type": "markdown",
   "metadata": {
    "id": "aH8Y1PS9OZyj"
   },
   "source": [
    "## 18. Write SQL query to Create a table named students with two columns id (integer type) and name (varchar type)"
   ]
  },
  {
   "cell_type": "code",
   "execution_count": null,
   "metadata": {
    "id": "TsaafyrxIYFd"
   },
   "outputs": [],
   "source": [
    "q18a =  \"\"\"create table students (\n",
    "    id int,\n",
    "    name varchar(30)\n",
    ");\"\"\""
   ]
  },
  {
   "cell_type": "code",
   "execution_count": null,
   "metadata": {
    "colab": {
     "base_uri": "https://localhost:8080/"
    },
    "id": "whuIWdc4OAzm",
    "outputId": "7781e943-7afe-4760-d35c-2f71dba1f615"
   },
   "outputs": [
    {
     "name": "stdout",
     "output_type": "stream",
     "text": [
      "True\n"
     ]
    }
   ],
   "source": [
    "def q18_grader_a(q18):\n",
    "  try:\n",
    "    cursor.execute(q18)\n",
    "    return True\n",
    "  except:\n",
    "    pass\n",
    "\n",
    "def q18_grader_b(q19):\n",
    "  result = pd.read_sql_query(q19, conn)\n",
    "  return result.columns.tolist() == ['id', 'name']\n",
    "\n",
    "q18b = \"\"\"SELECT * FROM students;\"\"\"\n",
    "\n",
    "print(q18_grader_a(q18a) and q18_grader_b(q18b))"
   ]
  },
  {
   "cell_type": "markdown",
   "metadata": {
    "id": "-hRir0DKPa9I"
   },
   "source": [
    "## 19. Write SQL query to insert the values (1, 'Alice') into students table"
   ]
  },
  {
   "cell_type": "code",
   "execution_count": 17,
   "metadata": {
    "id": "4x6gmopqq6s2"
   },
   "outputs": [],
   "source": [
    "q19_a = \"\"\"insert into students (id,name)\n",
    "values(1,'Alice')\"\"\""
   ]
  },
  {
   "cell_type": "code",
   "execution_count": null,
   "metadata": {
    "colab": {
     "base_uri": "https://localhost:8080/"
    },
    "id": "Bwq8A_58qXS7",
    "outputId": "33c05d95-b372-4643-8be6-c6d7dd0fd3f1"
   },
   "outputs": [
    {
     "name": "stdout",
     "output_type": "stream",
     "text": [
      "True\n"
     ]
    }
   ],
   "source": [
    "def q19_grader_a(q19_a):\n",
    "  try:\n",
    "    cursor.execute(q19_a)\n",
    "  except:\n",
    "    pass\n",
    "  return True\n",
    "\n",
    "def q19_grader_b(q19_b):\n",
    "  result = pd.read_sql_query(q19_b, conn)\n",
    "  return result.values.tolist() == [[1, 'Alice']]\n",
    "\n",
    "q19_b = \"SELECT * FROM students\"\n",
    "print(q19_grader_a(q19_a) and q19_grader_b(q19_b))"
   ]
  },
  {
   "cell_type": "markdown",
   "metadata": {
    "id": "PuQ4VFtwSu6x"
   },
   "source": [
    "## 20. Write SQL Query to add the following more information to students table\n",
    "\n",
    "| ID | Name    |\n",
    "|----|---------|\n",
    "| 2  | Bob     |\n",
    "| 3  | Charlie |"
   ]
  },
  {
   "cell_type": "code",
   "execution_count": 18,
   "metadata": {
    "id": "mGQrZEhKqgMo"
   },
   "outputs": [],
   "source": [
    "q20 = \"\"\"insert into students(id,name)\n",
    "values(2,'Bob'),(3,'Charlie')\"\"\""
   ]
  },
  {
   "cell_type": "code",
   "execution_count": null,
   "metadata": {
    "colab": {
     "base_uri": "https://localhost:8080/"
    },
    "id": "FRZxVn3xTAjk",
    "outputId": "c703e93e-c823-4728-aabd-0f720815fefb"
   },
   "outputs": [
    {
     "name": "stdout",
     "output_type": "stream",
     "text": [
      "True\n"
     ]
    }
   ],
   "source": [
    "def q20_grader(q20):\n",
    "  try:\n",
    "    cursor.execute(q20)\n",
    "  except:\n",
    "    pass\n",
    "  return True\n",
    "\n",
    "def q20_grader_b(q20_b):\n",
    "  result = pd.read_sql_query(q20_b, conn)\n",
    "  return result.values.tolist() == [[1, 'Alice'], [2, 'Bob'], [3, 'Charlie']]\n",
    "\n",
    "print(q20_grader(q20) and q20_grader_b(q19_b))"
   ]
  },
  {
   "cell_type": "code",
   "execution_count": null,
   "metadata": {
    "id": "qYNpS7UEhKc4"
   },
   "outputs": [],
   "source": [
    "# conn.close()"
   ]
  },
  {
   "cell_type": "code",
   "execution_count": null,
   "metadata": {
    "id": "53tIpYUusRVC"
   },
   "outputs": [],
   "source": []
  }
 ],
 "metadata": {
  "colab": {
   "provenance": []
  },
  "kernelspec": {
   "display_name": "Python 3 (ipykernel)",
   "language": "python",
   "name": "python3"
  },
  "language_info": {
   "codemirror_mode": {
    "name": "ipython",
    "version": 3
   },
   "file_extension": ".py",
   "mimetype": "text/x-python",
   "name": "python",
   "nbconvert_exporter": "python",
   "pygments_lexer": "ipython3",
   "version": "3.13.2"
  }
 },
 "nbformat": 4,
 "nbformat_minor": 4
}
